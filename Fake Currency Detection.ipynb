{
 "cells": [
  {
   "cell_type": "code",
   "execution_count": 1,
   "id": "9c582fe2-58c3-44eb-9a5c-851546f53222",
   "metadata": {},
   "outputs": [
    {
     "name": "stdout",
     "output_type": "stream",
     "text": [
      "Requirement already satisfied: opencv-python in c:\\users\\poorani\\anaconda3\\lib\\site-packages (4.11.0.86)\n",
      "Requirement already satisfied: numpy in c:\\users\\poorani\\anaconda3\\lib\\site-packages (1.26.4)\n",
      "Note: you may need to restart the kernel to use updated packages.\n"
     ]
    }
   ],
   "source": [
    "pip install opencv-python numpy"
   ]
  },
  {
   "cell_type": "code",
   "execution_count": 2,
   "id": "fe8efe14-7294-411d-83b5-c4e52742e17c",
   "metadata": {},
   "outputs": [],
   "source": [
    "import cv2\n",
    "import numpy as np\n",
    "import os"
   ]
  },
  {
   "cell_type": "code",
   "execution_count": 3,
   "id": "cb751651-9d5e-4167-b52f-5b6d9bbfee4c",
   "metadata": {},
   "outputs": [],
   "source": [
    "# Load images from directory\n",
    "def load_images_from_folder(folder):\n",
    "    images = []\n",
    "    for filename in os.listdir('Project'):\n",
    "        path = os.path.join(folder, filename)\n",
    "        img = cv2.imread(path, 0)  # Load in grayscale\n",
    "        if img is not None:\n",
    "            images.append(img)\n",
    "    return images"
   ]
  },
  {
   "cell_type": "code",
   "execution_count": 4,
   "id": "37136475-c8cc-4597-9d05-ead3db7e529a",
   "metadata": {},
   "outputs": [],
   "source": [
    "# Feature extractor using ORB\n",
    "def extract_features(img):\n",
    "    orb = cv2.ORB_create(nfeatures=1000)\n",
    "    keypoints, descriptors = orb.detectAndCompute(img, None)\n",
    "    return keypoints, descriptors"
   ]
  },
  {
   "cell_type": "code",
   "execution_count": 5,
   "id": "20040981-c989-4af9-923b-a14ebe219dfd",
   "metadata": {},
   "outputs": [],
   "source": [
    "# Compare descriptors using Brute Force Matcher\n",
    "def match_features(desc1, desc2):\n",
    "    bf = cv2.BFMatcher(cv2.NORM_HAMMING, crossCheck=True)\n",
    "    if desc1 is None or desc2 is None:\n",
    "        return 0\n",
    "    matches = bf.match(desc1, desc2)\n",
    "    return len(matches)"
   ]
  },
  {
   "cell_type": "code",
   "execution_count": 6,
   "id": "c20e9ead-a6a8-43de-8e13-1317f4d4f65a",
   "metadata": {},
   "outputs": [],
   "source": [
    "# Load training images\n",
    "real_folder = 'Project/real_notes'\n",
    "fake_folder = 'Project/fake_notes'\n",
    "real_images = load_images_from_folder(real_folder)\n",
    "fake_images = load_images_from_folder(fake_folder)"
   ]
  },
  {
   "cell_type": "code",
   "execution_count": 7,
   "id": "d4b7987f-e53c-449c-a332-4fe20467a4f7",
   "metadata": {},
   "outputs": [],
   "source": [
    "# Extract features for training data\n",
    "real_features = [extract_features(img)[1] for img in real_images]\n",
    "fake_features = [extract_features(img)[1] for img in fake_images]"
   ]
  },
  {
   "cell_type": "code",
   "execution_count": 8,
   "id": "f1862905-c349-4933-a8ee-b99920cad118",
   "metadata": {},
   "outputs": [],
   "source": [
    "# Load test image\n",
    "test_img = cv2.imread('Project/test_note.jpg', 0)\n",
    "_, test_des = extract_features(test_img)"
   ]
  },
  {
   "cell_type": "code",
   "execution_count": 9,
   "id": "35090222-3277-4081-bb52-f14ea399b8cd",
   "metadata": {},
   "outputs": [],
   "source": [
    "# Match against real and fake notes\n",
    "real_scores = [match_features(test_des, desc) for desc in real_features]\n",
    "fake_scores = [match_features(test_des, desc) for desc in fake_features]"
   ]
  },
  {
   "cell_type": "code",
   "execution_count": 10,
   "id": "266ee2c3-5805-4269-8032-0311e648983a",
   "metadata": {},
   "outputs": [
    {
     "name": "stdout",
     "output_type": "stream",
     "text": [
      "Real Avg Matches: 0\n",
      "Fake Avg Matches: 0\n"
     ]
    }
   ],
   "source": [
    "# Safe average calculation\n",
    "real_avg = np.mean(real_scores) if real_scores else 0\n",
    "fake_avg = np.mean(fake_scores) if fake_scores else 0\n",
    "\n",
    "print(\"Real Avg Matches:\", real_avg)\n",
    "print(\"Fake Avg Matches:\", fake_avg)"
   ]
  },
  {
   "cell_type": "code",
   "execution_count": 11,
   "id": "8927b930-1c80-4d31-bcb2-3c5bffa89087",
   "metadata": {},
   "outputs": [
    {
     "name": "stdout",
     "output_type": "stream",
     "text": [
      "The note is likely FAKE.\n"
     ]
    }
   ],
   "source": [
    "if real_avg > fake_avg:\n",
    "    print(\"The note is likely REAL.\")\n",
    "else:\n",
    "    print(\"The note is likely FAKE.\")"
   ]
  },
  {
   "cell_type": "code",
   "execution_count": 12,
   "id": "9aee23f8-40e0-45e6-bcad-5a48c55623c5",
   "metadata": {},
   "outputs": [],
   "source": [
    "keypoints, _ = extract_features(test_img)\n",
    "img_with_kp = cv2.drawKeypoints(test_img, keypoints, None, color=(0, 255, 0))\n",
    "cv2.imshow(\"Test Note Keypoints\", img_with_kp)\n",
    "cv2.waitKey(0)\n",
    "cv2.destroyAllWindows()"
   ]
  },
  {
   "cell_type": "code",
   "execution_count": null,
   "id": "ea491312-a422-4433-aa7e-5c4ea0783097",
   "metadata": {},
   "outputs": [],
   "source": []
  }
 ],
 "metadata": {
  "kernelspec": {
   "display_name": "Python 3 (ipykernel)",
   "language": "python",
   "name": "python3"
  },
  "language_info": {
   "codemirror_mode": {
    "name": "ipython",
    "version": 3
   },
   "file_extension": ".py",
   "mimetype": "text/x-python",
   "name": "python",
   "nbconvert_exporter": "python",
   "pygments_lexer": "ipython3",
   "version": "3.11.7"
  }
 },
 "nbformat": 4,
 "nbformat_minor": 5
}
